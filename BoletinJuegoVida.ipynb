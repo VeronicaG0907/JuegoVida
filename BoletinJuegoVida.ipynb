{
 "cells": [
  {
   "cell_type": "markdown",
   "metadata": {},
   "source": [
    "\n",
    "\n",
    "\n",
    "\n",
    "\n"
   ]
  },
  {
   "cell_type": "markdown",
   "metadata": {},
   "source": [
    "![Imagen](LogoUPS.png)"
   ]
  },
  {
   "cell_type": "markdown",
   "metadata": {},
   "source": [
    "\n",
    "\n",
    "\n",
    "\n",
    "\n",
    "\n",
    "\n",
    "\n",
    "\n",
    "# INTEGRANTES: \n",
    "\n",
    "\n",
    "                                   \n",
    "                \n",
    "                                    Veronica Villa\n",
    "                                \n",
    "\n",
    "\n",
    "# PROFESOR: \n",
    "\n",
    "\n",
    "                                    Ing. Vladimir RObles \n",
    "                                    \n",
    "                                    \n",
    "                \n",
    "# ASIGNATURA:\n",
    "\n",
    "\n",
    "\n",
    "                                    Simulacion \n",
    "          \n",
    "          \n",
    "                \n",
    "# TEMA: \n",
    "\n",
    "\n",
    "                                     JUEGO DE LA VIDA \n",
    "                \n",
    "                \n",
    "                \n",
    "                \n",
    "# AÑO LECTIVO:\n",
    "\n",
    "\n",
    "\n",
    "                                    2019- 2019\n",
    "\n",
    "\n",
    "\n",
    "\n",
    "\n",
    "\n",
    "\n",
    "\n",
    "\n"
   ]
  },
  {
   "cell_type": "markdown",
   "metadata": {},
   "source": [
    "\n",
    "\n",
    "\n",
    "\n",
    "\n",
    "\n",
    "\n",
    "\n"
   ]
  },
  {
   "cell_type": "markdown",
   "metadata": {},
   "source": [
    "\n",
    "\n",
    "\n",
    "\n",
    "\n",
    "\n",
    "\n",
    "\n",
    "# JUEGO DE LA VIDA \n",
    "\n",
    "\n",
    "\n",
    "\n",
    "\n",
    "\n"
   ]
  },
  {
   "cell_type": "markdown",
   "metadata": {},
   "source": [
    "# INTRODUCCION "
   ]
  },
  {
   "cell_type": "markdown",
   "metadata": {},
   "source": [
    "El término Vida Artificial (Artificial Life) describe el intento del hombre al tratar de conseguir modelar y explicar la vida mediante la creación de sistemas artificiales que exhiben la conducta de los seres vivos turales, definiendo su comportamiento en función de un grupo de reglas obtenidas mediante modelos de simulación y uso de herramientas de Ingeniería Computacional.\n",
    "\n",
    "Investigadores de Vida Artificial consideran a los Autómatas Celulares como un ejemplo de búsqueda de inteligencia y desarrollo de Vida Artificial, éste hecho no quiere decir que los AC sean inteligentes, ya que no parecen serlo, más en cambio poseen aspectos principales de la vida, y tienden a imitar procesos y comportamientos de los seres\n",
    "vivos. Los procesos celulares también tienen un gran vínculo con la va, teniendo como objetivo el fenómeno de  auto-reproducción, donde los trabajos con Autómatas Celulares son un ejemplo del intento\n",
    "de alcanzar la simulación de éste fenómeno."
   ]
  },
  {
   "cell_type": "markdown",
   "metadata": {},
   "source": [
    "# Definicion "
   ]
  },
  {
   "cell_type": "markdown",
   "metadata": {},
   "source": [
    "El juego de la vida de Conway es el automata celular mas conocido y mas estudiado, diseñado por el matematico John Horton Conway en 1970. El juego es un automata celular bidimensional en el cual cada celda (celula) puede estar en uno de los dos estados posibles, viva o muerta. Partiendo de un estado inicial, la simulacion va haciendo evolucionar al automata en base a unas sencillas funciones de transicion. Una celula va a estar en un estado concreto, el cual sera determinado unicamente del estado inmediatamente anterior de las celulas vecinas y el de la propia celula, tal y como se describi´o en la secci´on de aut´omatas celulares\n"
   ]
  },
  {
   "cell_type": "markdown",
   "metadata": {},
   "source": [
    "  # REGLAS"
   ]
  },
  {
   "cell_type": "markdown",
   "metadata": {},
   "source": [
    "                        \n",
    " 1.- Cualquier celda viva con menos de dos vecinos vivos muere, como si estuviera causada por la población                   insuficiente. \n",
    " \n",
    " 2.- Cualquier célula viva con dos o tres vecinos vivos vive para la próxima generación.\n",
    " \n",
    " 3.- Cualquier celda viva con más de tres vecinos vivos muere, como por sobrepoblación.\n",
    " \n",
    " 4.- Cualquier celda muerta con exactamente tres vecinos vivos se convierte en una célula viva, como por                     reproducción.1. \n",
    " \n",
    " \n",
    "\n",
    "Cada celda resaltada por una flecha azul se verá afectada por su regla numerada correspondiente más arriba. En otras palabras, la celda 1 morirá, la celda 2 permanecerá viva, la celda 3 morirá y la celda 4 cobrará vida"
   ]
  },
  {
   "cell_type": "markdown",
   "metadata": {},
   "source": [
    "![Imagen](figura7)\n"
   ]
  },
  {
   "cell_type": "markdown",
   "metadata": {},
   "source": [
    "# PATRONES"
   ]
  },
  {
   "cell_type": "markdown",
   "metadata": {},
   "source": [
    "Un patron es una configuracion de celulas vivas que permanece estable. Existen basicamente tres clases de patrones en el juego de la vida de Conway."
   ]
  },
  {
   "cell_type": "markdown",
   "metadata": {},
   "source": [
    "       Patrones estaticos (still lifes): \n",
    "Un conjunto de celulas vivas que se mantiene estatico, sin que se produzcan nuevos nacimientos o muertes."
   ]
  },
  {
   "cell_type": "markdown",
   "metadata": {},
   "source": [
    "![Imagen](figura1)\n",
    "\n",
    "                                        Figura 1: Patron bloque (block)"
   ]
  },
  {
   "cell_type": "markdown",
   "metadata": {},
   "source": [
    "![Imagen](figura2)\n",
    "\n",
    "                                           Figura 2: Patron barco (boat)"
   ]
  },
  {
   "cell_type": "markdown",
   "metadata": {},
   "source": [
    "    Patrones recurrentes (oscilators):\n",
    "    \n",
    "Un conjunto de c´elulas vivas que no se mueve por el mundo, pero que no es est´atico, ya que se producen nacimientos y muertes, produciendo transiciones que se repiten continuamente.\n",
    "\n",
    "    Patrones que se trasladan (spaceships):\n",
    "    \n",
    "Un conjunto de c´elulas vivas que permanece con la misma forma, pero que se desplaza por el tablero."
   ]
  },
  {
   "cell_type": "markdown",
   "metadata": {},
   "source": [
    "![Imagen](figura3)\n",
    "\n",
    "                                         Figura 3: Patron parpadeador (blinker)\n"
   ]
  },
  {
   "cell_type": "markdown",
   "metadata": {},
   "source": [
    "# DESCRIPCION DE LA APLICACION"
   ]
  },
  {
   "cell_type": "markdown",
   "metadata": {},
   "source": [
    "Se ha realizado el Juego de la Vida de Conway utilizando el lenguaje de programacion Python. En la cual hemos implementado las direfentes reglas. \n",
    "\n",
    "Posibilidad de ejecucion paso a paso, de cara a poder ver el resultado de una aplicacion de las reglas a una        configuracion dada, y ejecucion continuada, para ver el desarrollo de una configuracion inicial en el tiempo.\n",
    "\n",
    "Control de velocidad en la ejecucion continuada.\n",
    "\n",
    "Posibilidad de configurar las reglas del juego.\n",
    "\n",
    "Posibilidad de guardar y cargar el estado del juego, mantieniendo tanto las reglas como la disposicion de las celulas."
   ]
  },
  {
   "cell_type": "markdown",
   "metadata": {},
   "source": [
    "# EJEMPLO  DEL JUEGO DEL VIDA"
   ]
  },
  {
   "cell_type": "code",
   "execution_count": 8,
   "metadata": {},
   "outputs": [
    {
     "name": "stdout",
     "output_type": "stream",
     "text": [
      "Filas>> 4\n",
      "Columnas>> 4\n",
      ". **. \n",
      "*. . . \n",
      ". . . *\n",
      "*. . *\n",
      "VIve: 1 MUere: 6\n",
      ". *. . \n",
      ". **. \n",
      ". . . . \n",
      ". . . . \n",
      "VIve: 2 MUere: 5\n",
      ". **. \n",
      ". **. \n",
      ". . . . \n",
      ". . . . \n",
      "VIve: 1 MUere: 0\n",
      ". **. \n",
      ". **. \n",
      ". . . . \n",
      ". . . . \n",
      "VIve: 0 MUere: 0\n",
      "Total:  4\n"
     ]
    }
   ],
   "source": [
    "from __future__ import print_function\n",
    "\n",
    "import copy\n",
    "import random\n",
    "import itertools\n",
    "import time\n",
    "import os\n",
    "\n",
    "UNIX = True  \n",
    "\n",
    "clear = lambda: os.system('clear') if UNIX else os.system('cls')\n",
    "\n",
    "\n",
    "class GameOfLife(object):\n",
    "\n",
    "    def __init__(self, filas, cols):\n",
    "\n",
    "        self.filas = filas\n",
    "        self.cols = cols\n",
    "\n",
    "        fila_vive = lambda: [random.randint(0, 1) for n in range(self.cols)]\n",
    "        self.game = [fila_vive() for n in range(self.filas)]\n",
    "\n",
    "        self.vive = 1\n",
    "        self.muere = 1\n",
    "\n",
    "    def __str__(self):\n",
    "\n",
    "        table = ''\n",
    "        for fila in self.game:\n",
    "            for cell in fila:\n",
    "                table += '*' if cell else '. '\n",
    "            table += '\\n'\n",
    "\n",
    "        table += \"VIve: {0} MUere: {1}\".format(self.vive, self.muere)\n",
    "        return table\n",
    "\n",
    "    def evaluate(self, fila, col):\n",
    "\n",
    "        distance = list(set(itertools.permutations([-1, -1, 1, 1, 0], 2)))\n",
    "        into_table = lambda x, y: (x in range(self.filas) and y in range(self.cols))\n",
    "\n",
    "        total = 0\n",
    "        for r, c in distance:\n",
    "            if into_table(r + fila, c + col):\n",
    "                total += self.game[r + fila][c + col]\n",
    "        return total\n",
    "\n",
    "    def test(self):\n",
    "\n",
    "        gameaux = copy.deepcopy(self.game)\n",
    "        self.vive = 0\n",
    "        self.muere = 0\n",
    "\n",
    "        for f in range(self.filas):\n",
    "            for c in range(self.cols):\n",
    "                total = self.evaluate(f, c)\n",
    "\n",
    "                if (total < 2 or total > 3) and gameaux[f][c]:\n",
    "                    gameaux[f][c] = 0\n",
    "                    self.muere += 1\n",
    "                elif total == 3 and not gameaux[f][c]:\n",
    "                    gameaux[f][c] = 1\n",
    "                    self.vive += 1\n",
    "\n",
    "        self.game = copy.deepcopy(gameaux)\n",
    "\n",
    "filas, cols = int(input(\"Filas>> \")), int(input(\"Columnas>> \"))\n",
    "\n",
    "game = GameOfLife(filas, cols)\n",
    "\n",
    "iterations = 0\n",
    "while game.vive > 0 or game.muere > 0:\n",
    "    try:\n",
    "        clear()\n",
    "        game.test()\n",
    "        print(game)\n",
    "        time.sleep(1)\n",
    "        iterations += 1\n",
    "    except KeyboardInterrupt:\n",
    "        break\n",
    "print(\"Total: \", iterations)"
   ]
  },
  {
   "cell_type": "markdown",
   "metadata": {},
   "source": [
    "# CONCLUSIONES "
   ]
  },
  {
   "cell_type": "markdown",
   "metadata": {},
   "source": [
    "El juego de la vida nos indica como las celulas interacúan entre sí, definiendo su función en base del  comportamiento de sus vecinos, formando patrones y sus determinadas reglas. La aplicación de éstos algoritmos trata de conseguir un gran numero de soluciones a problemas de evolución y optimización."
   ]
  },
  {
   "cell_type": "markdown",
   "metadata": {},
   "source": [
    "# BIBLIOGRAFIA"
   ]
  },
  {
   "cell_type": "markdown",
   "metadata": {},
   "source": [
    "[1] ZEGERS, S. D. (2017). TRES EJERCICIOS DE OBSERVACIÓN EN TORNO A OBRAS DE (Doctoral dissertation, Universidad Finis Terrae).\n",
    "\n",
    "[2] Heredia, O. (2016). Creación de un software, para grado séptimo, basado en el juego de vida de John Horton Conway, como generador de actividades de razonamiento deductivo.\n",
    "\n",
    "[3] ZEGERS, S. D. (2017). TRES EJERCICIOS DE OBSERVACIÓN EN TORNO A OBRAS DE (Doctoral dissertation, Universidad Finis Terrae).\n",
    "\n",
    "[4] BORJA PIMENTEL, Adrián. Vida artificial en Watership: El gen egoísta. 2017. Tesis de Licenciatura.\n",
    "\n",
    "[5] CRESPO, Felipe Hernández. Modelos mentales y sistemas multiagentes: Gobernanza de la pesca en el corregimiento de Barú. Economía & Región, 2017, vol. 8, no 2."
   ]
  }
 ],
 "metadata": {
  "kernelspec": {
   "display_name": "Python 3",
   "language": "python",
   "name": "python3"
  },
  "language_info": {
   "codemirror_mode": {
    "name": "ipython",
    "version": 3
   },
   "file_extension": ".py",
   "mimetype": "text/x-python",
   "name": "python",
   "nbconvert_exporter": "python",
   "pygments_lexer": "ipython3",
   "version": "3.6.5"
  }
 },
 "nbformat": 4,
 "nbformat_minor": 2
}
